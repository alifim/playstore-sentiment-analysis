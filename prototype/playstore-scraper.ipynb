{
 "cells": [
  {
   "cell_type": "markdown",
   "metadata": {},
   "source": [
    "# Playstore Scraper"
   ]
  },
  {
   "cell_type": "code",
   "execution_count": 36,
   "metadata": {},
   "outputs": [],
   "source": [
    "# Import necessary libraries\n",
    "import pandas as pd\n",
    "import numpy as np\n",
    "import matplotlib.pyplot as plt\n",
    "import seaborn as sns\n",
    "from google_play_scraper import app, Sort, reviews_all, reviews"
   ]
  },
  {
   "cell_type": "code",
   "execution_count": 37,
   "metadata": {},
   "outputs": [],
   "source": [
    "# Define and configure Google Play Scraper library for Tiktok reviews\n",
    "result, continuation_token = reviews(\n",
    "    \"com.ss.android.ugc.trill\",\n",
    "    lang=\"en\", # Default language is 'en'.\n",
    "    country=\"id\", # Default country is 'us', set country to Indonesia.\n",
    "    sort=Sort.NEWEST, # Default is Sort.MOST_RELEVANT.,\n",
    "    count=100000\n",
    ")"
   ]
  },
  {
   "cell_type": "code",
   "execution_count": 38,
   "metadata": {},
   "outputs": [
    {
     "data": {
      "text/html": [
       "<div>\n",
       "<style scoped>\n",
       "    .dataframe tbody tr th:only-of-type {\n",
       "        vertical-align: middle;\n",
       "    }\n",
       "\n",
       "    .dataframe tbody tr th {\n",
       "        vertical-align: top;\n",
       "    }\n",
       "\n",
       "    .dataframe thead th {\n",
       "        text-align: right;\n",
       "    }\n",
       "</style>\n",
       "<table border=\"1\" class=\"dataframe\">\n",
       "  <thead>\n",
       "    <tr style=\"text-align: right;\">\n",
       "      <th></th>\n",
       "      <th>reviewId</th>\n",
       "      <th>userName</th>\n",
       "      <th>userImage</th>\n",
       "      <th>content</th>\n",
       "      <th>score</th>\n",
       "      <th>thumbsUpCount</th>\n",
       "      <th>reviewCreatedVersion</th>\n",
       "      <th>at</th>\n",
       "      <th>replyContent</th>\n",
       "      <th>repliedAt</th>\n",
       "    </tr>\n",
       "  </thead>\n",
       "  <tbody>\n",
       "    <tr>\n",
       "      <th>0</th>\n",
       "      <td>8fb7f3eb-f789-4c7f-8260-1eb466b608eb</td>\n",
       "      <td>Navin Navin</td>\n",
       "      <td>https://play-lh.googleusercontent.com/a/ALm5wu...</td>\n",
       "      <td>Not viral my vedios dont like tik tok</td>\n",
       "      <td>1</td>\n",
       "      <td>0</td>\n",
       "      <td>26.2.3</td>\n",
       "      <td>2022-09-28 06:17:50</td>\n",
       "      <td>None</td>\n",
       "      <td>NaT</td>\n",
       "    </tr>\n",
       "    <tr>\n",
       "      <th>1</th>\n",
       "      <td>75003d22-cd62-4468-92b5-268beb5944de</td>\n",
       "      <td>Kasyadie Bin Kasmilin</td>\n",
       "      <td>https://play-lh.googleusercontent.com/a-/ACNPE...</td>\n",
       "      <td>mantap</td>\n",
       "      <td>5</td>\n",
       "      <td>0</td>\n",
       "      <td>26.3.3</td>\n",
       "      <td>2022-09-28 06:09:50</td>\n",
       "      <td>None</td>\n",
       "      <td>NaT</td>\n",
       "    </tr>\n",
       "    <tr>\n",
       "      <th>2</th>\n",
       "      <td>4b71d014-8deb-4b8c-8132-d35491e44fb1</td>\n",
       "      <td>Han Roxas</td>\n",
       "      <td>https://play-lh.googleusercontent.com/a-/ACNPE...</td>\n",
       "      <td>The best</td>\n",
       "      <td>5</td>\n",
       "      <td>0</td>\n",
       "      <td>26.3.4</td>\n",
       "      <td>2022-09-28 06:08:12</td>\n",
       "      <td>None</td>\n",
       "      <td>NaT</td>\n",
       "    </tr>\n",
       "    <tr>\n",
       "      <th>3</th>\n",
       "      <td>e2020f1d-4165-4910-9af0-46c615885bf9</td>\n",
       "      <td>Ester Buangjog</td>\n",
       "      <td>https://play-lh.googleusercontent.com/a/ALm5wu...</td>\n",
       "      <td>Tik Tok</td>\n",
       "      <td>5</td>\n",
       "      <td>0</td>\n",
       "      <td>26.2.41</td>\n",
       "      <td>2022-09-28 05:58:05</td>\n",
       "      <td>None</td>\n",
       "      <td>NaT</td>\n",
       "    </tr>\n",
       "    <tr>\n",
       "      <th>4</th>\n",
       "      <td>2dc7b33b-0e6c-47e7-8b06-542d6229d236</td>\n",
       "      <td>colson's orange juice</td>\n",
       "      <td>https://play-lh.googleusercontent.com/a-/ACNPE...</td>\n",
       "      <td>Please fix this bug where my account randomly ...</td>\n",
       "      <td>3</td>\n",
       "      <td>0</td>\n",
       "      <td>None</td>\n",
       "      <td>2022-09-28 05:58:03</td>\n",
       "      <td>None</td>\n",
       "      <td>NaT</td>\n",
       "    </tr>\n",
       "  </tbody>\n",
       "</table>\n",
       "</div>"
      ],
      "text/plain": [
       "                               reviewId               userName  \\\n",
       "0  8fb7f3eb-f789-4c7f-8260-1eb466b608eb            Navin Navin   \n",
       "1  75003d22-cd62-4468-92b5-268beb5944de  Kasyadie Bin Kasmilin   \n",
       "2  4b71d014-8deb-4b8c-8132-d35491e44fb1              Han Roxas   \n",
       "3  e2020f1d-4165-4910-9af0-46c615885bf9         Ester Buangjog   \n",
       "4  2dc7b33b-0e6c-47e7-8b06-542d6229d236  colson's orange juice   \n",
       "\n",
       "                                           userImage  \\\n",
       "0  https://play-lh.googleusercontent.com/a/ALm5wu...   \n",
       "1  https://play-lh.googleusercontent.com/a-/ACNPE...   \n",
       "2  https://play-lh.googleusercontent.com/a-/ACNPE...   \n",
       "3  https://play-lh.googleusercontent.com/a/ALm5wu...   \n",
       "4  https://play-lh.googleusercontent.com/a-/ACNPE...   \n",
       "\n",
       "                                             content  score  thumbsUpCount  \\\n",
       "0              Not viral my vedios dont like tik tok      1              0   \n",
       "1                                             mantap      5              0   \n",
       "2                                           The best      5              0   \n",
       "3                                            Tik Tok      5              0   \n",
       "4  Please fix this bug where my account randomly ...      3              0   \n",
       "\n",
       "  reviewCreatedVersion                  at replyContent repliedAt  \n",
       "0               26.2.3 2022-09-28 06:17:50         None       NaT  \n",
       "1               26.3.3 2022-09-28 06:09:50         None       NaT  \n",
       "2               26.3.4 2022-09-28 06:08:12         None       NaT  \n",
       "3              26.2.41 2022-09-28 05:58:05         None       NaT  \n",
       "4                 None 2022-09-28 05:58:03         None       NaT  "
      ]
     },
     "execution_count": 38,
     "metadata": {},
     "output_type": "execute_result"
    }
   ],
   "source": [
    "df_reviews = pd.DataFrame(np.array(result), columns=[\"review\"])\n",
    "df_reviews = df_reviews.join(pd.DataFrame(df_reviews.pop(\"review\").tolist()))\n",
    "# Display dataframe header\n",
    "df_reviews.head()"
   ]
  },
  {
   "cell_type": "code",
   "execution_count": 39,
   "metadata": {},
   "outputs": [
    {
     "name": "stdout",
     "output_type": "stream",
     "text": [
      "<class 'pandas.core.frame.DataFrame'>\n",
      "RangeIndex: 100000 entries, 0 to 99999\n",
      "Data columns (total 10 columns):\n",
      " #   Column                Non-Null Count   Dtype         \n",
      "---  ------                --------------   -----         \n",
      " 0   reviewId              100000 non-null  object        \n",
      " 1   userName              100000 non-null  object        \n",
      " 2   userImage             100000 non-null  object        \n",
      " 3   content               100000 non-null  object        \n",
      " 4   score                 100000 non-null  int64         \n",
      " 5   thumbsUpCount         100000 non-null  int64         \n",
      " 6   reviewCreatedVersion  68003 non-null   object        \n",
      " 7   at                    100000 non-null  datetime64[ns]\n",
      " 8   replyContent          66 non-null      object        \n",
      " 9   repliedAt             66 non-null      datetime64[ns]\n",
      "dtypes: datetime64[ns](2), int64(2), object(6)\n",
      "memory usage: 7.6+ MB\n"
     ]
    }
   ],
   "source": [
    "# Check dataframe information\n",
    "df_reviews.info()"
   ]
  },
  {
   "cell_type": "code",
   "execution_count": 40,
   "metadata": {},
   "outputs": [
    {
     "data": {
      "text/plain": [
       "5    70747\n",
       "1    13913\n",
       "4     6796\n",
       "3     5181\n",
       "2     3363\n",
       "Name: score, dtype: int64"
      ]
     },
     "execution_count": 40,
     "metadata": {},
     "output_type": "execute_result"
    }
   ],
   "source": [
    "# Count number of review scores\n",
    "df_reviews['score'].value_counts()"
   ]
  },
  {
   "cell_type": "code",
   "execution_count": 41,
   "metadata": {},
   "outputs": [
    {
     "data": {
      "text/plain": [
       "<AxesSubplot: xlabel='score', ylabel='count'>"
      ]
     },
     "execution_count": 41,
     "metadata": {},
     "output_type": "execute_result"
    },
    {
     "data": {
      "image/png": "[encoded data removed]",
      "text/plain": [
       "<Figure size 640x480 with 1 Axes>"
      ]
     },
     "metadata": {},
     "output_type": "display_data"
    }
   ],
   "source": [
    "sns.countplot(data = df_reviews, x='score')"
   ]
  },
  {
   "cell_type": "code",
   "execution_count": 42,
   "metadata": {},
   "outputs": [
    {
     "data": {
      "text/plain": [
       "<AxesSubplot: ylabel='score'>"
      ]
     },
     "execution_count": 42,
     "metadata": {},
     "output_type": "execute_result"
    },
    {
     "data": {
      "image/png": "[encoded data removed]",
      "text/plain": [
       "<Figure size 800x800 with 1 Axes>"
      ]
     },
     "metadata": {},
     "output_type": "display_data"
    }
   ],
   "source": [
    "# Visualize review scores as pie chart\n",
    "df_reviews['score'].value_counts().plot(kind='pie',figsize=(8,8), autopct='%1.1f%%')"
   ]
  },
  {
   "cell_type": "code",
   "execution_count": 43,
   "metadata": {},
   "outputs": [
    {
     "data": {
      "text/html": [
       "<div>\n",
       "<style scoped>\n",
       "    .dataframe tbody tr th:only-of-type {\n",
       "        vertical-align: middle;\n",
       "    }\n",
       "\n",
       "    .dataframe tbody tr th {\n",
       "        vertical-align: top;\n",
       "    }\n",
       "\n",
       "    .dataframe thead th {\n",
       "        text-align: right;\n",
       "    }\n",
       "</style>\n",
       "<table border=\"1\" class=\"dataframe\">\n",
       "  <thead>\n",
       "    <tr style=\"text-align: right;\">\n",
       "      <th></th>\n",
       "      <th>content</th>\n",
       "      <th>score</th>\n",
       "    </tr>\n",
       "  </thead>\n",
       "  <tbody>\n",
       "    <tr>\n",
       "      <th>0</th>\n",
       "      <td>Not viral my vedios dont like tik tok</td>\n",
       "      <td>1</td>\n",
       "    </tr>\n",
       "    <tr>\n",
       "      <th>1</th>\n",
       "      <td>mantap</td>\n",
       "      <td>5</td>\n",
       "    </tr>\n",
       "    <tr>\n",
       "      <th>2</th>\n",
       "      <td>The best</td>\n",
       "      <td>5</td>\n",
       "    </tr>\n",
       "    <tr>\n",
       "      <th>3</th>\n",
       "      <td>Tik Tok</td>\n",
       "      <td>5</td>\n",
       "    </tr>\n",
       "    <tr>\n",
       "      <th>4</th>\n",
       "      <td>Please fix this bug where my account randomly ...</td>\n",
       "      <td>3</td>\n",
       "    </tr>\n",
       "  </tbody>\n",
       "</table>\n",
       "</div>"
      ],
      "text/plain": [
       "                                             content  score\n",
       "0              Not viral my vedios dont like tik tok      1\n",
       "1                                             mantap      5\n",
       "2                                           The best      5\n",
       "3                                            Tik Tok      5\n",
       "4  Please fix this bug where my account randomly ...      3"
      ]
     },
     "execution_count": 43,
     "metadata": {},
     "output_type": "execute_result"
    }
   ],
   "source": [
    "# Create new dataframe with review content and score for further analysis\n",
    "df_reviews_content = pd.DataFrame(df_reviews, columns=['content','score'])\n",
    "# Display new dataframe header\n",
    "df_reviews_content.head()"
   ]
  },
  {
   "cell_type": "code",
   "execution_count": 46,
   "metadata": {},
   "outputs": [],
   "source": [
    "# Save sample data to CSV file\n",
    "df_reviews_content.to_csv(\"../data/tiktok_playstore_reviews_last_100000_20220929.csv\")"
   ]
  },
  {
   "cell_type": "code",
   "execution_count": null,
   "metadata": {},
   "outputs": [],
   "source": []
  }
 ],
 "metadata": {
  "kernelspec": {
   "display_name": "Python 3 (ipykernel)",
   "language": "python",
   "name": "python3"
  },
  "language_info": {
   "codemirror_mode": {
    "name": "ipython",
    "version": 3
   },
   "file_extension": ".py",
   "mimetype": "text/x-python",
   "name": "python",
   "nbconvert_exporter": "python",
   "pygments_lexer": "ipython3",
   "version": "3.8.10"
  },
  "vscode": {
   "interpreter": {
    "hash": "6d4f1cb61bfbf6da5cefd4b65e9cb34bbdbd2db0c73d1b78c3db481b696b393c"
   }
  }
 },
 "nbformat": 4,
 "nbformat_minor": 2
}
